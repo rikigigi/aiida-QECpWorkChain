{
 "cells": [
  {
   "cell_type": "code",
   "execution_count": 1,
   "metadata": {},
   "outputs": [],
   "source": [
    "from aiida_QECpWorkChain.cp_runner import CpBaseWorkChain"
   ]
  },
  {
   "cell_type": "code",
   "execution_count": 2,
   "metadata": {},
   "outputs": [],
   "source": [
    "builder = CpBaseWorkChain.get_builder()"
   ]
  },
  {
   "cell_type": "code",
   "execution_count": 3,
   "metadata": {},
   "outputs": [],
   "source": [
    "import pymatgen.core\n",
    "import pymatgen as pmg\n",
    "import numpy as np\n",
    "def struct_gen_original(what='IV'):\n",
    "    # structure from\n",
    "    # https://journals.aps.org/prl/pdf/10.1103/PhysRevLett.76.74\n",
    "    if what=='IV':\n",
    "        ortho_abc=np.array((3.1868,5.5433,5.2559))\n",
    "        #ortho_abc=np.array((3.1868,5.5434,5.2559)) # to disable cache\n",
    "        lattice=pmg.core.lattice.Lattice.from_parameters(*ortho_abc,90.0,90.0,90.0)\n",
    "\n",
    "        coord=np.array([\n",
    "        [0.2429, 0.3496, 0.2562],\n",
    "        [0.3667, 0.1779, 0.2301],\n",
    "        [-0.0469, 0.3216, 0.3212],\n",
    "        [0.2114, 0.4290, 0.0852]\n",
    "        ])\n",
    "    elif what=='V':\n",
    "        ortho_abc=np.array((2.9215,5.0921,4.8056))\n",
    "        #ortho_abc=np.array((2.9215,5.0922,4.8056)) # to disable cache\n",
    "        lattice=pmg.core.lattice.Lattice.from_parameters(*ortho_abc,90.0,90.0,90.0)\n",
    "\n",
    "        coord=np.array([\n",
    "        [0.2388, 0.3363,0.2552],\n",
    "        [0.3508, 0.1415, 0.2321],\n",
    "        [-0.0823, 0.3145, 0.3226],\n",
    "        [0.2550, 0.4559, 0.0731]\n",
    "        ])        \n",
    "    structure=pmg.core.structure.Structure.from_spacegroup('P212121',lattice,['N','H','H','H'],coord,coords_are_cartesian=False)\n",
    "    return structure"
   ]
  },
  {
   "cell_type": "code",
   "execution_count": 4,
   "metadata": {},
   "outputs": [],
   "source": [
    "from aiida import load_profile\n",
    "load_profile()\n",
    "from aiida.orm import Code\n",
    "from aiida.orm import (Int,Dict,StructureData,)\n",
    "from aiida.orm.nodes.data.upf import get_pseudos_from_structure\n",
    "from aiida.engine import submit"
   ]
  },
  {
   "cell_type": "code",
   "execution_count": 5,
   "metadata": {},
   "outputs": [
    {
     "name": "stderr",
     "output_type": "stream",
     "text": [
      "03/23/2023 05:18:21 PM <1764296> aiida.orm.querybuilder: [DEBUG] projections data: {'entity': [{'*': {}}]}\n",
      "03/23/2023 05:18:21 PM <1764296> aiida.orm.querybuilder: [DEBUG] projection for entity: [{'*': {}}]\n"
     ]
    }
   ],
   "source": [
    "cp=Code.get(3)"
   ]
  },
  {
   "cell_type": "code",
   "execution_count": 6,
   "metadata": {},
   "outputs": [
    {
     "name": "stderr",
     "output_type": "stream",
     "text": [
      "03/23/2023 05:18:22 PM <1764296> aiida.orm.querybuilder: [DEBUG] projections data: {'user_1': []}\n",
      "03/23/2023 05:18:22 PM <1764296> aiida.orm.querybuilder: [DEBUG] projection for user_1: [{'*': {}}]\n"
     ]
    },
    {
     "data": {
      "text/plain": [
       "<StructureData: uuid: 28760bf6-c956-4534-9c4f-0123a601e635 (pk: 2824)>"
      ]
     },
     "execution_count": 6,
     "metadata": {},
     "output_type": "execute_result"
    }
   ],
   "source": [
    "aiida_structure_IV = StructureData(pymatgen_structure=struct_gen_original(what='IV'))\n",
    "aiida_structure_IV.store()"
   ]
  },
  {
   "cell_type": "code",
   "execution_count": 7,
   "metadata": {},
   "outputs": [
    {
     "data": {
      "text/plain": [
       "Process class: CpBaseWorkChain\n",
       "Inputs:\n",
       "cp:\n",
       "  metadata:\n",
       "    options:\n",
       "      stash: {}\n",
       "  monitors: {}\n",
       "  pseudos: {}\n",
       "metadata: {}\n"
      ]
     },
     "execution_count": 7,
     "metadata": {},
     "output_type": "execute_result"
    }
   ],
   "source": [
    "builder"
   ]
  },
  {
   "cell_type": "code",
   "execution_count": 8,
   "metadata": {},
   "outputs": [
    {
     "name": "stderr",
     "output_type": "stream",
     "text": [
      "03/23/2023 05:18:22 PM <1764296> aiida.orm.querybuilder: [DEBUG] projections data: {'upf_1': [{'*': {}}]}\n",
      "03/23/2023 05:18:22 PM <1764296> aiida.orm.querybuilder: [DEBUG] projection for upf_1: [{'*': {}}]\n"
     ]
    }
   ],
   "source": [
    "\n",
    "builder.nstep_cg=Int(1)\n",
    "builder.nstep=Int(100)\n",
    "builder.cp.code=cp\n",
    "builder.cp.pseudos=get_pseudos_from_structure(aiida_structure_IV,'pseudodojo')\n",
    "builder.cp.metadata.options={\n",
    "        'resources' : {\n",
    "            'num_machines' : 1,\n",
    "            'num_mpiprocs_per_machine' : 1\n",
    "        },\n",
    "        'max_wallclock_seconds' : 60*60*12,\n",
    "        'queue_name' : 'm100_usr_prod',\n",
    "        'account': 'Sis22_baroni_0',\n",
    "    }\n",
    "builder.cp.parameters=Dict({\n",
    "        'SYSTEM' :{'ecutwfc': 60, 'nr1b': 18, 'nr2b': 18, 'nr3b': 18 },\n",
    "        'CONTROL' : {'isave' : 3000, }})\n",
    "builder.cp.structure=aiida_structure_IV"
   ]
  },
  {
   "cell_type": "code",
   "execution_count": 9,
   "metadata": {},
   "outputs": [
    {
     "name": "stdout",
     "output_type": "stream",
     "text": [
      "\u001b[93m\u001b[1mWarning\u001b[0m: \u001b[22mRabbitMQ v3.11.4 is not supported and will cause unexpected problems!\u001b[0m\n",
      "\u001b[93m\u001b[1mWarning\u001b[0m: \u001b[22mIt can cause long-running workflows to crash and jobs to be submitted multiple times.\u001b[0m\n",
      "\u001b[93m\u001b[1mWarning\u001b[0m: \u001b[22mSee https://github.com/aiidateam/aiida-core/wiki/RabbitMQ-version-to-use for details.\u001b[0m\n"
     ]
    },
    {
     "name": "stderr",
     "output_type": "stream",
     "text": [
      "03/23/2023 05:18:22 PM <1764296> aiida.orm.querybuilder: [DEBUG] projections data: {'parent': [], 'child': [], 'parent--child': []}\n",
      "03/23/2023 05:18:22 PM <1764296> aiida.orm.querybuilder: [DEBUG] projection for child: [{'*': {}}]\n",
      "03/23/2023 05:18:22 PM <1764296> aiida.orm.querybuilder: [DEBUG] projections data: {'parent': [], 'child': [], 'parent--child': []}\n",
      "03/23/2023 05:18:22 PM <1764296> aiida.orm.querybuilder: [DEBUG] projection for child: [{'*': {}}]\n",
      "03/23/2023 05:18:22 PM <1764296> aiida.orm.querybuilder: [DEBUG] projections data: {'parent': [], 'child': [], 'parent--child': []}\n",
      "03/23/2023 05:18:22 PM <1764296> aiida.orm.querybuilder: [DEBUG] projection for child: [{'*': {}}]\n",
      "03/23/2023 05:18:22 PM <1764296> aiida.orm.querybuilder: [DEBUG] projections data: {'parent': [], 'child': [], 'parent--child': []}\n",
      "03/23/2023 05:18:22 PM <1764296> aiida.orm.querybuilder: [DEBUG] projection for child: [{'*': {}}]\n",
      "03/23/2023 05:18:22 PM <1764296> aiida.orm.querybuilder: [DEBUG] projections data: {'parent': [], 'child': [], 'parent--child': []}\n",
      "03/23/2023 05:18:22 PM <1764296> aiida.orm.querybuilder: [DEBUG] projection for child: [{'*': {}}]\n",
      "03/23/2023 05:18:22 PM <1764296> aiida.orm.querybuilder: [DEBUG] projections data: {'parent': [], 'child': [], 'parent--child': []}\n",
      "03/23/2023 05:18:22 PM <1764296> aiida.orm.querybuilder: [DEBUG] projection for child: [{'*': {}}]\n",
      "03/23/2023 05:18:22 PM <1764296> aiida.orm.querybuilder: [DEBUG] projections data: {'parent': [], 'child': [], 'parent--child': []}\n",
      "03/23/2023 05:18:22 PM <1764296> aiida.orm.querybuilder: [DEBUG] projection for child: [{'*': {}}]\n",
      "03/23/2023 05:18:22 PM <1764296> aiida.orm.querybuilder: [DEBUG] projections data: {'main': [], 'node_1': [{'*': {}}], 'main--node_1': [{'type': {}}, {'label': {}}]}\n",
      "03/23/2023 05:18:22 PM <1764296> aiida.orm.querybuilder: [DEBUG] projection for main: []\n",
      "03/23/2023 05:18:22 PM <1764296> aiida.orm.querybuilder: [DEBUG] projection for node_1: [{'*': {}}]\n",
      "03/23/2023 05:18:22 PM <1764296> aiida.orm.querybuilder: [DEBUG] Checking projections for edges: This is edge main--node_1 from node_1, with_outgoing of main\n",
      "03/23/2023 05:18:22 PM <1764296> aiida.orm.querybuilder: [DEBUG] projection for main--node_1: [{'type': {}}, {'label': {}}]\n",
      "03/23/2023 05:18:22 PM <1764296> aiida.orm.querybuilder: [DEBUG] projections data: {'main': [], 'node_1': [{'*': {}}], 'main--node_1': [{'type': {}}, {'label': {}}]}\n",
      "03/23/2023 05:18:22 PM <1764296> aiida.orm.querybuilder: [DEBUG] projection for main: []\n",
      "03/23/2023 05:18:22 PM <1764296> aiida.orm.querybuilder: [DEBUG] projection for node_1: [{'*': {}}]\n",
      "03/23/2023 05:18:22 PM <1764296> aiida.orm.querybuilder: [DEBUG] Checking projections for edges: This is edge main--node_1 from node_1, with_incoming of main\n",
      "03/23/2023 05:18:22 PM <1764296> aiida.orm.querybuilder: [DEBUG] projection for main--node_1: [{'type': {}}, {'label': {}}]\n",
      "03/23/2023 05:18:22 PM <1764296> aiida.engine.persistence: [DEBUG] Persisting process<2828>\n",
      "03/23/2023 05:18:22 PM <1764296> aiida.engine.persistence: [DEBUG] Persisting process<2828>\n"
     ]
    }
   ],
   "source": [
    "res = submit(builder)"
   ]
  },
  {
   "cell_type": "code",
   "execution_count": 10,
   "metadata": {},
   "outputs": [
    {
     "data": {
      "text/plain": [
       "<WorkChainNode: uuid: 49137281-e19b-4147-b2b5-2f8c71a4ec59 (pk: 2828) (aiida_QECpWorkChain.cp_runner.CpBaseWorkChain)>"
      ]
     },
     "execution_count": 10,
     "metadata": {},
     "output_type": "execute_result"
    }
   ],
   "source": [
    "res"
   ]
  },
  {
   "cell_type": "code",
   "execution_count": 11,
   "metadata": {},
   "outputs": [
    {
     "name": "stderr",
     "output_type": "stream",
     "text": [
      "03/23/2023 05:18:22 PM <1764296> aiida.orm.querybuilder: [DEBUG] projections data: {'main': [], 'node_1': [{'*': {}}], 'main--node_1': [{'type': {}}, {'label': {}}]}\n",
      "03/23/2023 05:18:22 PM <1764296> aiida.orm.querybuilder: [DEBUG] projection for main: []\n",
      "03/23/2023 05:18:22 PM <1764296> aiida.orm.querybuilder: [DEBUG] projection for node_1: [{'*': {}}]\n",
      "03/23/2023 05:18:22 PM <1764296> aiida.orm.querybuilder: [DEBUG] Checking projections for edges: This is edge main--node_1 from node_1, with_incoming of main\n",
      "03/23/2023 05:18:22 PM <1764296> aiida.orm.querybuilder: [DEBUG] projection for main--node_1: [{'type': {}}, {'label': {}}]\n"
     ]
    },
    {
     "ename": "IndexError",
     "evalue": "list index out of range",
     "output_type": "error",
     "traceback": [
      "\u001b[0;31m---------------------------------------------------------------------------\u001b[0m",
      "\u001b[0;31mIndexError\u001b[0m                                Traceback (most recent call last)",
      "\u001b[0;32m/tmp/ipykernel_1764296/1938508534.py\u001b[0m in \u001b[0;36m<cell line: 1>\u001b[0;34m()\u001b[0m\n\u001b[0;32m----> 1\u001b[0;31m \u001b[0mres\u001b[0m\u001b[0;34m.\u001b[0m\u001b[0mcalled\u001b[0m\u001b[0;34m[\u001b[0m\u001b[0;36m0\u001b[0m\u001b[0;34m]\u001b[0m\u001b[0;34m\u001b[0m\u001b[0;34m\u001b[0m\u001b[0m\n\u001b[0m",
      "\u001b[0;31mIndexError\u001b[0m: list index out of range"
     ]
    }
   ],
   "source": [
    "res.called[0]"
   ]
  },
  {
   "cell_type": "code",
   "execution_count": null,
   "metadata": {},
   "outputs": [
    {
     "name": "stderr",
     "output_type": "stream",
     "text": [
      "03/23/2023 05:06:31 PM <1743208> aiida.orm.querybuilder: [DEBUG] projections data: {'main': [], 'node_1': [{'*': {}}], 'main--node_1': [{'type': {}}, {'label': {}}]}\n",
      "03/23/2023 05:06:31 PM <1743208> aiida.orm.querybuilder: [DEBUG] projection for main: []\n",
      "03/23/2023 05:06:31 PM <1743208> aiida.orm.querybuilder: [DEBUG] projection for node_1: [{'*': {}}]\n",
      "03/23/2023 05:06:31 PM <1743208> aiida.orm.querybuilder: [DEBUG] Checking projections for edges: This is edge main--node_1 from node_1, with_incoming of main\n",
      "03/23/2023 05:06:31 PM <1743208> aiida.orm.querybuilder: [DEBUG] projection for main--node_1: [{'type': {}}, {'label': {}}]\n"
     ]
    }
   ],
   "source": [
    "c=res.called[1].outputs"
   ]
  },
  {
   "cell_type": "code",
   "execution_count": null,
   "metadata": {},
   "outputs": [
    {
     "name": "stderr",
     "output_type": "stream",
     "text": [
      "03/23/2023 05:08:20 PM <1743208> aiida.orm.querybuilder: [DEBUG] projections data: {'main': [], 'node_1': [{'*': {}}], 'main--node_1': [{'type': {}}, {'label': {}}]}\n",
      "03/23/2023 05:08:20 PM <1743208> aiida.orm.querybuilder: [DEBUG] projection for main: []\n",
      "03/23/2023 05:08:20 PM <1743208> aiida.orm.querybuilder: [DEBUG] projection for node_1: [{'*': {}}]\n",
      "03/23/2023 05:08:20 PM <1743208> aiida.orm.querybuilder: [DEBUG] Checking projections for edges: This is edge main--node_1 from node_1, with_incoming of main\n",
      "03/23/2023 05:08:20 PM <1743208> aiida.orm.querybuilder: [DEBUG] projection for main--node_1: [{'type': {}}, {'label': {}}]\n"
     ]
    },
    {
     "data": {
      "text/plain": [
       "array([ 10,  20,  30,  40,  50,  60,  70,  80,  90, 100])"
      ]
     },
     "execution_count": 24,
     "metadata": {},
     "output_type": "execute_result"
    }
   ],
   "source": [
    "c.output_trajectory.get_array('steps')"
   ]
  },
  {
   "cell_type": "code",
   "execution_count": null,
   "metadata": {},
   "outputs": [
    {
     "name": "stderr",
     "output_type": "stream",
     "text": [
      "03/23/2023 05:09:05 PM <1743208> aiida.orm.querybuilder: [DEBUG] projections data: {'main': [], 'node_1': [{'*': {}}], 'main--node_1': [{'type': {}}, {'label': {}}]}\n",
      "03/23/2023 05:09:05 PM <1743208> aiida.orm.querybuilder: [DEBUG] projection for main: []\n",
      "03/23/2023 05:09:05 PM <1743208> aiida.orm.querybuilder: [DEBUG] projection for node_1: [{'*': {}}]\n",
      "03/23/2023 05:09:05 PM <1743208> aiida.orm.querybuilder: [DEBUG] Checking projections for edges: This is edge main--node_1 from node_1, with_incoming of main\n",
      "03/23/2023 05:09:05 PM <1743208> aiida.orm.querybuilder: [DEBUG] projection for main--node_1: [{'type': {}}, {'label': {}}]\n"
     ]
    },
    {
     "data": {
      "text/plain": [
       "['cells',\n",
       " 'steps',\n",
       " 'times',\n",
       " 'forces',\n",
       " 'volume',\n",
       " 'enthalpy',\n",
       " 'pressure',\n",
       " 'stresses',\n",
       " 'positions',\n",
       " 'velocities',\n",
       " 'cell_temperature',\n",
       " 'scf_total_energy',\n",
       " 'ionic_temperature',\n",
       " 'enthalpy_plus_kinetic',\n",
       " 'energy_constant_motion',\n",
       " 'electronic_kinetic_energy']"
      ]
     },
     "execution_count": 25,
     "metadata": {},
     "output_type": "execute_result"
    }
   ],
   "source": [
    "c.output_trajectory.get_arraynames()"
   ]
  },
  {
   "cell_type": "code",
   "execution_count": null,
   "metadata": {},
   "outputs": [],
   "source": []
  }
 ],
 "metadata": {
  "kernelspec": {
   "display_name": "venv_materys",
   "language": "python",
   "name": "python3"
  },
  "language_info": {
   "codemirror_mode": {
    "name": "ipython",
    "version": 3
   },
   "file_extension": ".py",
   "mimetype": "text/x-python",
   "name": "python",
   "nbconvert_exporter": "python",
   "pygments_lexer": "ipython3",
   "version": "3.10.8"
  },
  "orig_nbformat": 4,
  "vscode": {
   "interpreter": {
    "hash": "d59cab35737359873dde81589cd7aafe823b9c2861891c820a0ddf5c39758648"
   }
  }
 },
 "nbformat": 4,
 "nbformat_minor": 2
}
